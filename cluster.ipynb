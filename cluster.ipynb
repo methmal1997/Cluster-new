{
 "cells": [
  {
   "cell_type": "markdown",
   "metadata": {},
   "source": [
    "# Import libaries"
   ]
  },
  {
   "cell_type": "code",
   "execution_count": null,
   "metadata": {
    "pycharm": {
     "is_executing": true
    }
   },
   "outputs": [],
   "source": [
    "import openml\n",
    "from joblib import Memory\n",
    "import joblib\n",
    "from joblib import Parallel,delayed\n",
    "from tqdm import tqdm\n",
    "import matplotlib.pyplot as plt\n",
    "import numpy as np\n",
    "import pandas as pd\n",
    "\n",
    "from sklearn.metrics import silhouette_score\n",
    "\n",
    "from sklearn import datasets\n",
    "from sklearn.neighbors import NearestNeighbors\n",
    "\n",
    "from progressbar import ProgressBar\n",
    "import time\n",
    "\n",
    "from sklearn.mixture import GaussianMixture\n",
    "\n",
    "from sklearn.cluster import KMeans, DBSCAN, AffinityPropagation, MeanShift, estimate_bandwidth,SpectralClustering,OPTICS,AgglomerativeClustering,Birch\n",
    "import scipy.cluster.hierarchy as sch\n",
    "import json"
   ]
  },
  {
   "cell_type": "markdown",
   "metadata": {},
   "source": [
    "# Import all datatsets"
   ]
  },
  {
   "cell_type": "code",
   "execution_count": null,
   "metadata": {
    "pycharm": {
     "is_executing": true
    }
   },
   "outputs": [],
   "source": [
    "datasets_df = openml.datasets.list_datasets(output_format=\"dataframe\")\n",
    "datasets_df.head(10)"
   ]
  },
  {
   "cell_type": "markdown",
   "metadata": {},
   "source": [
    "# Extract  Dataset"
   ]
  },
  {
   "cell_type": "code",
   "execution_count": null,
   "metadata": {
    "pycharm": {
     "is_executing": true
    }
   },
   "outputs": [],
   "source": [
    "dataset = openml.datasets.get_dataset(1477)"
   ]
  },
  {
   "cell_type": "markdown",
   "metadata": {},
   "source": [
    "# create summary file"
   ]
  },
  {
   "cell_type": "code",
   "execution_count": null,
   "metadata": {
    "pycharm": {
     "is_executing": true
    }
   },
   "outputs": [],
   "source": [
    "k='gas_drift.json'"
   ]
  },
  {
   "cell_type": "markdown",
   "metadata": {},
   "source": [
    "# Print description about dataset"
   ]
  },
  {
   "cell_type": "code",
   "execution_count": null,
   "metadata": {
    "pycharm": {
     "is_executing": true
    },
    "scrolled": true
   },
   "outputs": [],
   "source": [
    "# Print a summary\n",
    "print(\n",
    "    f\"This is dataset '{dataset.name}', the target feature is \"\n",
    "    f\"'{dataset.default_target_attribute}'\"\n",
    ")\n",
    "print(f\"URL: {dataset.url}\")\n",
    "print(dataset.description[:])"
   ]
  },
  {
   "cell_type": "markdown",
   "metadata": {},
   "source": [
    "# Get depent and indepent variables"
   ]
  },
  {
   "cell_type": "code",
   "execution_count": null,
   "metadata": {
    "pycharm": {
     "is_executing": true
    }
   },
   "outputs": [],
   "source": [
    "x, y, categorical_indicator, attribute_names = dataset.get_data(\n",
    "    dataset_format=\"dataframe\", target=dataset.default_target_attribute\n",
    ")"
   ]
  },
  {
   "cell_type": "markdown",
   "metadata": {},
   "source": [
    "# Data types"
   ]
  },
  {
   "cell_type": "code",
   "execution_count": null,
   "metadata": {
    "pycharm": {
     "is_executing": true
    }
   },
   "outputs": [],
   "source": [
    "x.dtypes"
   ]
  },
  {
   "cell_type": "code",
   "execution_count": null,
   "metadata": {
    "pycharm": {
     "is_executing": true
    }
   },
   "outputs": [],
   "source": [
    "#x['Patients_year_of_operation'] = x['Patients_year_of_operation'].astype(int)"
   ]
  },
  {
   "cell_type": "code",
   "execution_count": null,
   "metadata": {
    "pycharm": {
     "is_executing": true
    }
   },
   "outputs": [],
   "source": [
    "#get all categorical columns\n",
    "cat_columns = x.select_dtypes(['category']).columns\n",
    "\n",
    "#convert all categorical columns to numeric\n",
    "x[cat_columns] = x[cat_columns].apply(lambda x: pd.factorize(x)[0])"
   ]
  },
  {
   "cell_type": "code",
   "execution_count": null,
   "metadata": {
    "pycharm": {
     "is_executing": true
    }
   },
   "outputs": [],
   "source": [
    "set(x['health'])"
   ]
  },
  {
   "cell_type": "code",
   "execution_count": null,
   "metadata": {
    "pycharm": {
     "is_executing": true
    }
   },
   "outputs": [],
   "source": [
    "x.head(10)"
   ]
  },
  {
   "cell_type": "markdown",
   "metadata": {},
   "source": [
    "# Change response variable to int"
   ]
  },
  {
   "cell_type": "code",
   "execution_count": null,
   "metadata": {
    "pycharm": {
     "is_executing": true
    }
   },
   "outputs": [],
   "source": [
    "y"
   ]
  },
  {
   "cell_type": "code",
   "execution_count": null,
   "metadata": {
    "pycharm": {
     "is_executing": true
    }
   },
   "outputs": [],
   "source": [
    "y=y.map({'1' :0,'2':1,'3':2,'4':3,'5':4,'6':5})"
   ]
  },
  {
   "cell_type": "code",
   "execution_count": null,
   "metadata": {
    "pycharm": {
     "is_executing": true
    }
   },
   "outputs": [],
   "source": [
    "y.astype(int)"
   ]
  },
  {
   "cell_type": "code",
   "execution_count": null,
   "metadata": {
    "pycharm": {
     "is_executing": true
    }
   },
   "outputs": [],
   "source": [
    "x"
   ]
  },
  {
   "cell_type": "code",
   "execution_count": null,
   "metadata": {
    "pycharm": {
     "is_executing": true
    }
   },
   "outputs": [],
   "source": [
    "df_min_max_scaled = x.copy()\n",
    "  \n",
    "# apply normalization techniques\n",
    "for column in df_min_max_scaled.columns:\n",
    "    df_min_max_scaled[column] = (df_min_max_scaled[column] - df_min_max_scaled[column].min()) / (df_min_max_scaled[column].max() - df_min_max_scaled[column].min())    \n",
    "  \n",
    "# view normalized data\n",
    "print(df_min_max_scaled)"
   ]
  },
  {
   "cell_type": "code",
   "execution_count": null,
   "metadata": {
    "pycharm": {
     "is_executing": true
    }
   },
   "outputs": [],
   "source": [
    "pbar = ProgressBar()"
   ]
  },
  {
   "cell_type": "markdown",
   "metadata": {},
   "source": [
    "# Create joblib"
   ]
  },
  {
   "cell_type": "code",
   "execution_count": null,
   "metadata": {
    "pycharm": {
     "is_executing": true
    }
   },
   "outputs": [],
   "source": [
    "# Parallel(n_jobs=8,backend='multiprocessing'){\n",
    "#     delayed\n",
    "# }"
   ]
  },
  {
   "cell_type": "markdown",
   "metadata": {},
   "source": [
    "# change to an array"
   ]
  },
  {
   "cell_type": "code",
   "execution_count": null,
   "metadata": {
    "pycharm": {
     "is_executing": true
    }
   },
   "outputs": [],
   "source": [
    "x=df_min_max_scaled.to_numpy()"
   ]
  },
  {
   "cell_type": "markdown",
   "metadata": {},
   "source": [
    "# K means"
   ]
  },
  {
   "cell_type": "code",
   "execution_count": null,
   "metadata": {
    "pycharm": {
     "is_executing": true
    }
   },
   "outputs": [],
   "source": [
    "distortions = []\n",
    "k_means_model = []\n",
    "clust=[]\n",
    "cluster_center=[]"
   ]
  },
  {
   "cell_type": "code",
   "execution_count": null,
   "metadata": {
    "pycharm": {
     "is_executing": true
    }
   },
   "outputs": [],
   "source": [
    "%%time\n",
    "def k_means(data,num_clusters):\n",
    "    km = KMeans(n_clusters=num_clusters,\n",
    "                max_iter=10000)\n",
    "    km.fit(data)\n",
    "    cluster_center.append(km.cluster_centers_)\n",
    "#     clusters = km.labels_\n",
    "    k_means_model.append(km)\n",
    "    clust.append(km.labels_)\n",
    "    distortions.append(km.inertia_)\n",
    "    print(clust)\n",
    "    return k_means_model,distortions,clust,cluster_center\n",
    "k_means_result=Parallel(n_jobs=8)(delayed(k_means)(x,num_clusters=i) for i in tqdm(range(2,9)) )"
   ]
  },
  {
   "cell_type": "code",
   "execution_count": null,
   "metadata": {
    "pycharm": {
     "is_executing": true
    }
   },
   "outputs": [],
   "source": [
    "print([i[1] for i in k_means_result])"
   ]
  },
  {
   "cell_type": "code",
   "execution_count": null,
   "metadata": {
    "pycharm": {
     "is_executing": true
    }
   },
   "outputs": [],
   "source": [
    "k_means_model=tuple([i[0] for i in k_means_result])\n",
    "distortions=([i[1] for i in k_means_result])\n",
    "clust=([i[2] for i in k_means_result])"
   ]
  },
  {
   "cell_type": "code",
   "execution_count": null,
   "metadata": {
    "pycharm": {
     "is_executing": true
    }
   },
   "outputs": [],
   "source": [
    "k_means_model_new=[] \n",
    "def change2(i):\n",
    "    k_means_model_new.append(k_means_model[i][0])\n",
    "    return k_means_model_new\n",
    "Parallel(n_jobs=8,require='sharedmem')(delayed(change2)(i) for i in range(7))\n",
    "# silhouette_scores_new=silhouette_scores_new[0][0]\n",
    "k_means_model_new"
   ]
  },
  {
   "cell_type": "code",
   "execution_count": null,
   "metadata": {
    "pycharm": {
     "is_executing": true
    }
   },
   "outputs": [],
   "source": [
    "k_means_model"
   ]
  },
  {
   "cell_type": "markdown",
   "metadata": {},
   "source": [
    "# Average silhouette_score change with clusters"
   ]
  },
  {
   "cell_type": "code",
   "execution_count": null,
   "metadata": {
    "pycharm": {
     "is_executing": true
    }
   },
   "outputs": [],
   "source": [
    "from sklearn.metrics import silhouette_score, silhouette_samples\n",
    "\n",
    "import matplotlib.cm as cm\n",
    "from sklearn.metrics import f1_score\n",
    "from sklearn.metrics.cluster import adjusted_rand_score"
   ]
  },
  {
   "cell_type": "code",
   "execution_count": null,
   "metadata": {
    "pycharm": {
     "is_executing": true
    }
   },
   "outputs": [],
   "source": [
    "silhouette_scores = Parallel(n_jobs=8)(delayed(silhouette_score)(x ,model.labels_) for model in k_means_model_new)"
   ]
  },
  {
   "cell_type": "code",
   "execution_count": null,
   "metadata": {
    "pycharm": {
     "is_executing": true
    },
    "scrolled": true
   },
   "outputs": [],
   "source": [
    "silhouette_scores"
   ]
  },
  {
   "cell_type": "code",
   "execution_count": null,
   "metadata": {
    "pycharm": {
     "is_executing": true
    }
   },
   "outputs": [],
   "source": [
    "plt.title(\"Average silhouette_score vs no of cluster\")\n",
    "plt.plot(range(2,9), silhouette_scores, \"bo-\", color='blue',linewidth=3,markersize=8)"
   ]
  },
  {
   "cell_type": "markdown",
   "metadata": {},
   "source": [
    "# k means determined value"
   ]
  },
  {
   "cell_type": "code",
   "execution_count": null,
   "metadata": {
    "pycharm": {
     "is_executing": true
    }
   },
   "outputs": [],
   "source": [
    "start = time.time()\n",
    "labelk=[]\n",
    "cluster_center=[]\n",
    "def kmean(data,num_clusters):\n",
    "    km = KMeans(n_clusters=num_clusters,max_iter=10000)\n",
    "    km.fit(data)\n",
    "    labelk.append(km.labels_)\n",
    "    cluster_center.append(km.cluster_centers_)\n",
    "    return labelk,cluster_center\n",
    "labelk=Parallel(n_jobs=8)(delayed(kmean)(x,num_clusters=6) for _ in range(1))[0]\n",
    "end = time.time()\n",
    "kmean_time=end-start\n"
   ]
  },
  {
   "cell_type": "code",
   "execution_count": null,
   "metadata": {
    "pycharm": {
     "is_executing": true
    }
   },
   "outputs": [],
   "source": [
    "predicted1=labelk[0][0]\n",
    "predicted1"
   ]
  },
  {
   "cell_type": "code",
   "execution_count": null,
   "metadata": {
    "pycharm": {
     "is_executing": true
    }
   },
   "outputs": [],
   "source": [
    "plt.scatter(x[:,0], x[:,1], c=predicted1, s=40, cmap='viridis')"
   ]
  },
  {
   "cell_type": "code",
   "execution_count": null,
   "metadata": {
    "pycharm": {
     "is_executing": true
    }
   },
   "outputs": [],
   "source": [
    "cluster_centers=labelk[1][0]\n",
    "fig = plt.figure()\n",
    "ax = fig.add_subplot(111, projection ='3d')\n",
    "ax.scatter(x[:, 0], x[:, 1], x[:, 2], marker ='o')\n",
    "ax.scatter(cluster_centers[:, 0], cluster_centers[:, 1],\n",
    "           cluster_centers[:, 2], marker ='x', color ='red',\n",
    "           s = 300, linewidth = 5, zorder = 10)\n",
    "  \n",
    "plt.show()"
   ]
  },
  {
   "cell_type": "markdown",
   "metadata": {},
   "source": [
    "# f1_score"
   ]
  },
  {
   "cell_type": "code",
   "execution_count": null,
   "metadata": {
    "pycharm": {
     "is_executing": true
    }
   },
   "outputs": [],
   "source": [
    "kmeans_f1=f1_score(y, predicted1,average='macro')\n",
    "kmeans_f1"
   ]
  },
  {
   "cell_type": "markdown",
   "metadata": {},
   "source": [
    "# adjusted_rand_score"
   ]
  },
  {
   "cell_type": "code",
   "execution_count": null,
   "metadata": {
    "pycharm": {
     "is_executing": true
    }
   },
   "outputs": [],
   "source": [
    "kmeans_adjust=adjusted_rand_score(y,predicted1)\n",
    "kmeans_adjust"
   ]
  },
  {
   "cell_type": "markdown",
   "metadata": {},
   "source": [
    "# silhouette_score"
   ]
  },
  {
   "cell_type": "code",
   "execution_count": null,
   "metadata": {
    "pycharm": {
     "is_executing": true
    }
   },
   "outputs": [],
   "source": [
    "kmeans_sil=silhouette_score(x,predicted1)\n",
    "kmeans_sil"
   ]
  },
  {
   "cell_type": "code",
   "execution_count": null,
   "metadata": {
    "pycharm": {
     "is_executing": true
    }
   },
   "outputs": [],
   "source": [
    "details = {\n",
    "    'name': 'K Means',\n",
    "    'time': kmean_time,\n",
    "    'f1_score':kmeans_f1,\n",
    "    'adjusted_rand_score':kmeans_adjust,\n",
    "    'silhouette_score':kmeans_sil \n",
    "}\n",
    "with open(k, 'a') as json_file:\n",
    "    json.dump(details, json_file)"
   ]
  },
  {
   "cell_type": "markdown",
   "metadata": {},
   "source": [
    "# Agglomerative Clustering"
   ]
  },
  {
   "cell_type": "code",
   "execution_count": null,
   "metadata": {
    "pycharm": {
     "is_executing": true
    }
   },
   "outputs": [],
   "source": [
    "%%time\n",
    "labels=[]\n",
    "def aggloc(i):\n",
    "    aggloclust=AgglomerativeClustering(n_clusters=i).fit(x)\n",
    "    print(aggloclust)\n",
    "    labels.append(aggloclust.labels_)\n",
    "    return labels\n",
    "labels=Parallel(n_jobs=8)(delayed(aggloc)(6) for _ in range(1))[0]"
   ]
  },
  {
   "cell_type": "code",
   "execution_count": null,
   "metadata": {
    "pycharm": {
     "is_executing": true
    }
   },
   "outputs": [],
   "source": [
    "start = time.time()\n",
    "labels=[]\n",
    "\n",
    "def aggloc(i):\n",
    "    aggloclust=AgglomerativeClustering(n_clusters=i).fit(x)\n",
    "    print(aggloclust)\n",
    "    labels.append(aggloclust.labels_)\n",
    "    return labels\n",
    "labels=Parallel(n_jobs=8)(delayed(aggloc)(6) for _ in range(1))[0]\n",
    "# time.sleep(3)\n",
    "end = time.time()\n",
    "agglo_time=end-start\n",
    "# print(\"--- %s seconds ---\"% (kmean_time))"
   ]
  },
  {
   "cell_type": "code",
   "execution_count": null,
   "metadata": {
    "pycharm": {
     "is_executing": true
    }
   },
   "outputs": [],
   "source": [
    "predicted2=np.array(labels[0])\n",
    "predicted2"
   ]
  },
  {
   "cell_type": "code",
   "execution_count": null,
   "metadata": {
    "pycharm": {
     "is_executing": true
    }
   },
   "outputs": [],
   "source": [
    "plt.scatter(x[:,0], x[:,1], c=labels)\n",
    "plt.show()"
   ]
  },
  {
   "cell_type": "code",
   "execution_count": null,
   "metadata": {
    "pycharm": {
     "is_executing": true
    }
   },
   "outputs": [],
   "source": [
    "an_array = np.where(predicted2==0, 5, predicted2)\n",
    "an_array2=np.where(an_array==1, 0, an_array)\n",
    "predicted2_new=np.where(an_array2==5, 1, an_array2)\n",
    "predicted2_new"
   ]
  },
  {
   "cell_type": "markdown",
   "metadata": {},
   "source": [
    "# f1_score"
   ]
  },
  {
   "cell_type": "code",
   "execution_count": null,
   "metadata": {
    "pycharm": {
     "is_executing": true
    }
   },
   "outputs": [],
   "source": [
    "agglo_f1=f1_score(y, predicted2,average='macro')\n",
    "agglo_f1"
   ]
  },
  {
   "cell_type": "code",
   "execution_count": null,
   "metadata": {
    "pycharm": {
     "is_executing": true
    }
   },
   "outputs": [],
   "source": [
    "f1_score(y, predicted2_new,average='macro')"
   ]
  },
  {
   "cell_type": "markdown",
   "metadata": {},
   "source": [
    "# adjusted_rand_score"
   ]
  },
  {
   "cell_type": "code",
   "execution_count": null,
   "metadata": {
    "pycharm": {
     "is_executing": true
    }
   },
   "outputs": [],
   "source": [
    "agglo_adjust=adjusted_rand_score(y,predicted2)\n",
    "agglo_adjust"
   ]
  },
  {
   "cell_type": "code",
   "execution_count": null,
   "metadata": {
    "pycharm": {
     "is_executing": true
    }
   },
   "outputs": [],
   "source": [
    "adjusted_rand_score(y,predicted2_new)"
   ]
  },
  {
   "cell_type": "markdown",
   "metadata": {},
   "source": [
    "# silhouette_score"
   ]
  },
  {
   "cell_type": "code",
   "execution_count": null,
   "metadata": {
    "pycharm": {
     "is_executing": true
    }
   },
   "outputs": [],
   "source": [
    "agglo_sil=silhouette_score(x,predicted2)\n",
    "agglo_sil"
   ]
  },
  {
   "cell_type": "code",
   "execution_count": null,
   "metadata": {
    "pycharm": {
     "is_executing": true
    }
   },
   "outputs": [],
   "source": [
    "silhouette_score(x,predicted2_new)"
   ]
  },
  {
   "cell_type": "code",
   "execution_count": null,
   "metadata": {
    "pycharm": {
     "is_executing": true
    }
   },
   "outputs": [],
   "source": [
    "details = {\n",
    "    'name': 'Agglomerative',\n",
    "    'time': agglo_time,\n",
    "    'f1_score':agglo_f1,\n",
    "    'adjusted_rand_score':agglo_adjust,\n",
    "    'silhouette_score':agglo_sil \n",
    "}\n",
    "with open(k, 'a') as json_file:\n",
    "    json.dump(details, json_file)"
   ]
  },
  {
   "cell_type": "markdown",
   "metadata": {},
   "source": [
    "# DBSCAN "
   ]
  },
  {
   "cell_type": "code",
   "execution_count": null,
   "metadata": {
    "pycharm": {
     "is_executing": true
    }
   },
   "outputs": [],
   "source": [
    "x.ndim"
   ]
  },
  {
   "cell_type": "code",
   "execution_count": null,
   "metadata": {
    "pycharm": {
     "is_executing": true
    }
   },
   "outputs": [],
   "source": [
    "# MIn samples is 2*2"
   ]
  },
  {
   "cell_type": "markdown",
   "metadata": {},
   "source": [
    "# find eps value"
   ]
  },
  {
   "cell_type": "code",
   "execution_count": null,
   "metadata": {
    "pycharm": {
     "is_executing": true
    }
   },
   "outputs": [],
   "source": [
    "neighbors = NearestNeighbors(n_neighbors=4)\n",
    "neighbors_fit = neighbors.fit(x)\n",
    "distances, indices = neighbors_fit.kneighbors(x)"
   ]
  },
  {
   "cell_type": "code",
   "execution_count": null,
   "metadata": {
    "pycharm": {
     "is_executing": true
    }
   },
   "outputs": [],
   "source": [
    "distances = np.sort(distances, axis=0)\n",
    "distances = distances[:,1]\n",
    "plt.plot(distances)"
   ]
  },
  {
   "cell_type": "code",
   "execution_count": null,
   "metadata": {
    "pycharm": {
     "is_executing": true
    }
   },
   "outputs": [],
   "source": [
    "# renge_eps=[0.22,0.229,0.239,0.249,0.255,0.265,0.27] #iris dataset ,min_samples=5\n",
    "# renge_eps=[0.45,0.49,0.5,0.504,0.505]  #wine data set optimam 0.504,min_samples=5\n",
    "# renge_eps=[0.3,0.303,0.4] # glass data set optimam 0.3 ,min_samples=2 renge_eps=[0.3,0.303,0.4]\n",
    "# renge_eps=[0.27,0.28,0.3,0.4,0.32] #haberman\n",
    "#renge_eps=[0.412] #satelite \n",
    "# renge_eps=np.arange(2,15,0.1)\n",
    "# renge_eps=[0.77,0.775,0.779,0.78] for gas drift\n",
    "for i in renge_eps:\n",
    "    db = DBSCAN(eps=i,min_samples=8).fit(x)\n",
    "    mask=np.zeros_like(db.labels_,dtype=bool)\n",
    "    mask[db.core_sample_indices_]=True\n",
    "    labels=db.labels_\n",
    "    n_cluster=len(np.unique(labels))\n",
    "    if(len(np.unique(labels))>0):\n",
    "        print('eps value is '+ str(i))\n",
    "        print(set(labels))\n",
    "        avg=silhouette_score(x,labels)\n",
    "        len(np.unique(labels))\n",
    "        print(avg)\n",
    "        print('Number of cluster ',n_cluster )\n"
   ]
  },
  {
   "cell_type": "code",
   "execution_count": null,
   "metadata": {
    "pycharm": {
     "is_executing": true
    }
   },
   "outputs": [],
   "source": [
    "min_sample=range(2,10)\n",
    "for i in min_sample:\n",
    "        print('Min sample is '+ str(i))\n",
    "        db = DBSCAN(eps=0.775,min_samples=i).fit(x)\n",
    "        mask=np.zeros_like(db.labels_,dtype=bool)\n",
    "        mask[db.core_sample_indices_]=True\n",
    "        labels=db.labels_\n",
    "        if(len(np.unique(labels))>1):\n",
    "            avg=silhouette_score(x,labels)\n",
    "            len(np.unique(labels))\n",
    "            \n",
    "        \n",
    "        print(\"For min sample values\"+str(i),\"Total no of clusters are \"+str(len(np.unique(labels))))\n",
    "        \n",
    "    "
   ]
  },
  {
   "cell_type": "code",
   "execution_count": null,
   "metadata": {
    "pycharm": {
     "is_executing": true
    }
   },
   "outputs": [],
   "source": [
    "start = time.time()\n",
    "labels=[]\n",
    "\n",
    "def scan(i):\n",
    "    db = DBSCAN(eps=0.775,min_samples=i)\n",
    "    db.fit(x)\n",
    "    labels = db.labels_\n",
    "    return labels\n",
    "labels=Parallel(n_jobs=8)(delayed(scan)(6) for _ in range(1))[0]\n",
    "n_cluster=len(np.unique(labels))\n",
    "print(\"Number of clusters: \",n_cluster )\n",
    "end = time.time()\n",
    "dbscan_time=end-start\n",
    "dbscan_time"
   ]
  },
  {
   "cell_type": "code",
   "execution_count": null,
   "metadata": {
    "pycharm": {
     "is_executing": true
    }
   },
   "outputs": [],
   "source": [
    "# predicted3=np.array(labels[0])\n",
    "# predicted3\n",
    "predicted3=labels\n",
    "predicted3"
   ]
  },
  {
   "cell_type": "code",
   "execution_count": null,
   "metadata": {
    "pycharm": {
     "is_executing": true
    }
   },
   "outputs": [],
   "source": [
    "plt.scatter(x[:,0], x[:,1], c=predicted3, cmap='viridis')"
   ]
  },
  {
   "cell_type": "markdown",
   "metadata": {},
   "source": [
    "# f1_score"
   ]
  },
  {
   "cell_type": "code",
   "execution_count": null,
   "metadata": {
    "pycharm": {
     "is_executing": true
    }
   },
   "outputs": [],
   "source": [
    "dbscan_f1=f1_score(y, predicted3,average='macro')\n",
    "dbscan_f1"
   ]
  },
  {
   "cell_type": "markdown",
   "metadata": {},
   "source": [
    "# adjusted_rand_score"
   ]
  },
  {
   "cell_type": "code",
   "execution_count": null,
   "metadata": {
    "pycharm": {
     "is_executing": true
    }
   },
   "outputs": [],
   "source": [
    "dbscan_adjust=adjusted_rand_score(y,predicted3)\n",
    "dbscan_adjust"
   ]
  },
  {
   "cell_type": "markdown",
   "metadata": {},
   "source": [
    "# silhouette_score"
   ]
  },
  {
   "cell_type": "code",
   "execution_count": null,
   "metadata": {
    "pycharm": {
     "is_executing": true
    }
   },
   "outputs": [],
   "source": [
    "dbscan_sil=silhouette_score(x,predicted3)\n",
    "dbscan_sil"
   ]
  },
  {
   "cell_type": "code",
   "execution_count": null,
   "metadata": {
    "pycharm": {
     "is_executing": true
    }
   },
   "outputs": [],
   "source": [
    "details = {\n",
    "    'name': 'dbscan',\n",
    "    'time': dbscan_time,\n",
    "    'f1_score':dbscan_f1,\n",
    "    'adjusted_rand_score':dbscan_adjust,\n",
    "    'silhouette_score':dbscan_sil \n",
    "}\n",
    "with open(k, 'a') as json_file:\n",
    "    json.dump(details, json_file)"
   ]
  },
  {
   "cell_type": "markdown",
   "metadata": {},
   "source": [
    "# optics"
   ]
  },
  {
   "cell_type": "code",
   "execution_count": null,
   "metadata": {
    "pycharm": {
     "is_executing": true
    }
   },
   "outputs": [],
   "source": [
    "renge_eps=range(2,15)           #renge_eps=range(2,25) for glass\n",
    "                                #renge_eps=range(16,40)  for haberman\n",
    "                                #min_samples=i,xi=0.11) satelite\n",
    "for i in renge_eps:\n",
    "    db = OPTICS(min_samples=i,xi=0.11).fit(x)\n",
    "    labels=db.labels_\n",
    "    n_cluster=len(np.unique(labels))\n",
    "    \n",
    "    if(n_cluster==6):\n",
    "        avg=silhouette_score(x,labels)            #n_cluster==3 and avg>0.4 for iris\n",
    "        print(i)\n",
    "        print(set(labels))\n",
    "        print('Number of cluster ',n_cluster )\n",
    "        print(\"for eps value \"+str(i),\"Average silvate score is \",avg)"
   ]
  },
  {
   "cell_type": "code",
   "execution_count": null,
   "metadata": {
    "pycharm": {
     "is_executing": true
    }
   },
   "outputs": [],
   "source": [
    "# for satelit image\n",
    "# 0.1\n",
    "# 0.07\n",
    "# 0.09\n",
    "# 0.08\n",
    "# xi=0.03, clusters=6 sil=-0.49"
   ]
  },
  {
   "cell_type": "code",
   "execution_count": null,
   "metadata": {
    "pycharm": {
     "is_executing": true
    },
    "scrolled": true
   },
   "outputs": [],
   "source": [
    "start = time.time()\n",
    "labels=[]\n",
    "def clus():\n",
    "    clustering = OPTICS(min_samples=6).fit(x)    #min_samples=6,xi=0.08\n",
    "    labels.append(clustering.labels_)\n",
    "    return labels\n",
    "labels=Parallel(n_jobs=8)(delayed(clus)() for _ in range(1))[0]\n",
    "end = time.time()\n",
    "optics_time=end-start"
   ]
  },
  {
   "cell_type": "code",
   "execution_count": null,
   "metadata": {
    "pycharm": {
     "is_executing": true
    }
   },
   "outputs": [],
   "source": [
    "optics_time"
   ]
  },
  {
   "cell_type": "code",
   "execution_count": null,
   "metadata": {
    "pycharm": {
     "is_executing": true
    }
   },
   "outputs": [],
   "source": [
    "n_cluster=len(np.unique(labels))\n",
    "print(\"Number of clusters: \",n_cluster )"
   ]
  },
  {
   "cell_type": "code",
   "execution_count": null,
   "metadata": {
    "pycharm": {
     "is_executing": true
    },
    "scrolled": true
   },
   "outputs": [],
   "source": [
    "predicted4=np.array(labels)[0]\n",
    "Optics_sil=silhouette_score(x,predicted4)\n",
    "Optics_sil"
   ]
  },
  {
   "cell_type": "code",
   "execution_count": null,
   "metadata": {
    "pycharm": {
     "is_executing": true
    }
   },
   "outputs": [],
   "source": [
    "predicted4=np.array(labels)[0]\n",
    "predicted4"
   ]
  },
  {
   "cell_type": "code",
   "execution_count": null,
   "metadata": {
    "pycharm": {
     "is_executing": true
    }
   },
   "outputs": [],
   "source": [
    "plt.scatter(x[:,0], x[:,1], c=predicted4, s=40, cmap='viridis')"
   ]
  },
  {
   "cell_type": "markdown",
   "metadata": {},
   "source": [
    "# f1_score"
   ]
  },
  {
   "cell_type": "code",
   "execution_count": null,
   "metadata": {
    "pycharm": {
     "is_executing": true
    }
   },
   "outputs": [],
   "source": [
    "Optics_f1=f1_score(y, predicted4,average='macro')\n",
    "Optics_f1"
   ]
  },
  {
   "cell_type": "markdown",
   "metadata": {},
   "source": [
    "# adjusted_rand_score"
   ]
  },
  {
   "cell_type": "code",
   "execution_count": null,
   "metadata": {
    "pycharm": {
     "is_executing": true
    }
   },
   "outputs": [],
   "source": [
    "Optics_adjust=adjusted_rand_score(y,predicted4)\n",
    "Optics_adjust"
   ]
  },
  {
   "cell_type": "markdown",
   "metadata": {},
   "source": [
    "# silhouette_score"
   ]
  },
  {
   "cell_type": "code",
   "execution_count": null,
   "metadata": {
    "pycharm": {
     "is_executing": true
    }
   },
   "outputs": [],
   "source": [
    "Optics_sil=silhouette_score(x,predicted4)\n",
    "Optics_sil"
   ]
  },
  {
   "cell_type": "code",
   "execution_count": null,
   "metadata": {
    "pycharm": {
     "is_executing": true
    }
   },
   "outputs": [],
   "source": [
    "details = {\n",
    "    'name': 'Optics',\n",
    "    'time': optics_time,\n",
    "    'f1_score':Optics_f1,\n",
    "    'adjusted_rand_score':Optics_adjust,\n",
    "    'silhouette_score':Optics_sil \n",
    "}\n",
    "with open(k, 'a') as json_file:\n",
    "    json.dump(details, json_file)"
   ]
  },
  {
   "cell_type": "markdown",
   "metadata": {
    "pycharm": {
     "is_executing": true
    }
   },
   "source": [
    "# GaussianMixture"
   ]
  },
  {
   "cell_type": "code",
   "execution_count": null,
   "metadata": {
    "pycharm": {
     "is_executing": true
    }
   },
   "outputs": [],
   "source": [
    "start = time.time()\n",
    "labels=[]\n",
    "def gauss(i):\n",
    "    gmm = GaussianMixture(n_components=i).fit(x)\n",
    "    labels.append(gmm.predict(x))\n",
    "    return labels\n",
    "labels=Parallel(n_jobs=8)(delayed(gauss)(6) for _ in range(1))[0][0]\n",
    "end = time.time()\n",
    "GaussianMixture_time=end-start"
   ]
  },
  {
   "cell_type": "code",
   "execution_count": null,
   "metadata": {
    "pycharm": {
     "is_executing": true
    }
   },
   "outputs": [],
   "source": [
    "predicted5 = labels\n",
    "predicted5"
   ]
  },
  {
   "cell_type": "code",
   "execution_count": null,
   "metadata": {
    "pycharm": {
     "is_executing": true
    }
   },
   "outputs": [],
   "source": [
    "plt.scatter(x[:, 0], x[:, 1], c=predicted5, s=40, cmap='viridis');"
   ]
  },
  {
   "cell_type": "markdown",
   "metadata": {},
   "source": [
    "# f1_score"
   ]
  },
  {
   "cell_type": "code",
   "execution_count": null,
   "metadata": {
    "pycharm": {
     "is_executing": true
    }
   },
   "outputs": [],
   "source": [
    "GaussianMixture_f1=f1_score(y, predicted5,average='macro')\n",
    "GaussianMixture_f1"
   ]
  },
  {
   "cell_type": "markdown",
   "metadata": {},
   "source": [
    "# adjusted_rand_score"
   ]
  },
  {
   "cell_type": "code",
   "execution_count": null,
   "metadata": {
    "pycharm": {
     "is_executing": true
    }
   },
   "outputs": [],
   "source": [
    "GaussianMixture_adjust=adjusted_rand_score(y,predicted5)\n",
    "GaussianMixture_adjust"
   ]
  },
  {
   "cell_type": "markdown",
   "metadata": {},
   "source": [
    "# silhouette_score"
   ]
  },
  {
   "cell_type": "code",
   "execution_count": null,
   "metadata": {
    "pycharm": {
     "is_executing": true
    }
   },
   "outputs": [],
   "source": [
    "GaussianMixture_sil=silhouette_score(x,predicted5)\n",
    "GaussianMixture_sil"
   ]
  },
  {
   "cell_type": "code",
   "execution_count": null,
   "metadata": {
    "pycharm": {
     "is_executing": true
    }
   },
   "outputs": [],
   "source": [
    "details = {\n",
    "    'name': 'GaussianMixture',\n",
    "    'time': GaussianMixture_time,\n",
    "    'f1_score':GaussianMixture_f1,\n",
    "    'adjusted_rand_score':GaussianMixture_adjust,\n",
    "    'silhouette_score':GaussianMixture_sil \n",
    "}\n",
    "with open(k, 'a') as json_file:\n",
    "    json.dump(details, json_file)"
   ]
  },
  {
   "cell_type": "markdown",
   "metadata": {},
   "source": [
    "# Mean shift"
   ]
  },
  {
   "cell_type": "markdown",
   "metadata": {},
   "source": [
    "# the kernel bandwidth parameter"
   ]
  },
  {
   "cell_type": "code",
   "execution_count": null,
   "metadata": {
    "pycharm": {
     "is_executing": true
    }
   },
   "outputs": [],
   "source": [
    "from sklearn.cluster import  estimate_bandwidth\n",
    "bandwidth = estimate_bandwidth(x,quantile=0.5)\n",
    "bandwidth\n",
    "labels1=[]\n",
    "cluster_center=[]\n",
    "bandwidth\n"
   ]
  },
  {
   "cell_type": "code",
   "execution_count": null,
   "metadata": {
    "pycharm": {
     "is_executing": true
    }
   },
   "outputs": [],
   "source": [
    "start = time.time()\n",
    "def mean(i):\n",
    "    ms=MeanShift(bandwidth,cluster_all=True)                #bandwidth=0.31223 for iris\n",
    "                                                 #andwidth=0.778  for wine\n",
    "                                                 #bandwidth=0.6165\n",
    "                                                #bandwidth=0.47 for haberman\n",
    "                                                #bbandwidth=0.749 for satelite\n",
    "                                                #bandwidth=0.8195 for nurse\n",
    "    ms.fit(x)\n",
    "    labels1.append(ms.labels_)\n",
    "    cluster_center.append(ms.cluster_centers_)\n",
    "    return cluster_center,labels1\n",
    "result1=Parallel(n_jobs=8)(delayed(mean)(3) for _ in range(1))[0]\n",
    "end = time.time()\n",
    "MeanShift_time=end-start\n",
    "MeanShift_time"
   ]
  },
  {
   "cell_type": "code",
   "execution_count": null,
   "metadata": {
    "pycharm": {
     "is_executing": true
    }
   },
   "outputs": [],
   "source": [
    "MeanShift_sil=silhouette_score(x,result1[1][0])\n",
    "print(MeanShift_sil)\n",
    "predicted6=result1[1][0]\n",
    "n_cluster=len(np.unique(predicted6))\n",
    "print(\"Number of clusters: \",n_cluster )\n",
    "MeanShift_sil=silhouette_score(x,predicted6)\n",
    "MeanShift_sil"
   ]
  },
  {
   "cell_type": "code",
   "execution_count": null,
   "metadata": {
    "pycharm": {
     "is_executing": true
    }
   },
   "outputs": [],
   "source": [
    "predicted6=result1[1][0]\n",
    "n_cluster=len(np.unique(predicted6))\n",
    "print(\"Number of clusters: \",n_cluster )"
   ]
  },
  {
   "cell_type": "code",
   "execution_count": null,
   "metadata": {
    "pycharm": {
     "is_executing": true
    }
   },
   "outputs": [],
   "source": [
    "center=result1[0][0]\n",
    "print(center)"
   ]
  },
  {
   "cell_type": "code",
   "execution_count": null,
   "metadata": {
    "pycharm": {
     "is_executing": true
    }
   },
   "outputs": [],
   "source": [
    "predicted6"
   ]
  },
  {
   "cell_type": "code",
   "execution_count": null,
   "metadata": {
    "pycharm": {
     "is_executing": true
    }
   },
   "outputs": [],
   "source": [
    "cluster_centers=result1[0][0]\n",
    "fig = plt.figure()\n",
    "ax = fig.add_subplot(111, projection ='3d')\n",
    "ax.scatter(x[:, 0], x[:, 1], x[:, 2], marker ='o')\n",
    "ax.scatter(cluster_centers[:, 0], cluster_centers[:, 1],\n",
    "           cluster_centers[:, 2], marker ='x', color ='red',\n",
    "           s = 300, linewidth = 5, zorder = 10)\n",
    "  \n",
    "plt.show()"
   ]
  },
  {
   "cell_type": "markdown",
   "metadata": {},
   "source": [
    "# f1_score"
   ]
  },
  {
   "cell_type": "code",
   "execution_count": null,
   "metadata": {
    "pycharm": {
     "is_executing": true
    }
   },
   "outputs": [],
   "source": [
    "MeanShift_f1=f1_score(y, predicted6,average='macro')\n",
    "MeanShift_f1"
   ]
  },
  {
   "cell_type": "markdown",
   "metadata": {},
   "source": [
    "# adjusted_rand_score"
   ]
  },
  {
   "cell_type": "code",
   "execution_count": null,
   "metadata": {
    "pycharm": {
     "is_executing": true
    }
   },
   "outputs": [],
   "source": [
    "MeanShift_adjust=adjusted_rand_score(y,predicted6)\n",
    "MeanShift_adjust"
   ]
  },
  {
   "cell_type": "markdown",
   "metadata": {},
   "source": [
    "# silhouette_score"
   ]
  },
  {
   "cell_type": "code",
   "execution_count": null,
   "metadata": {
    "pycharm": {
     "is_executing": true
    }
   },
   "outputs": [],
   "source": [
    "MeanShift_sil=silhouette_score(x,predicted6)\n",
    "MeanShift_sil"
   ]
  },
  {
   "cell_type": "code",
   "execution_count": null,
   "metadata": {
    "pycharm": {
     "is_executing": true
    }
   },
   "outputs": [],
   "source": [
    "details = {\n",
    "    'name': 'MeanShift',\n",
    "    'time': MeanShift_time,\n",
    "    'f1_score':MeanShift_f1,\n",
    "    'adjusted_rand_score':MeanShift_adjust,\n",
    "    'silhouette_score':MeanShift_sil \n",
    "}\n",
    "with open(k, 'a') as json_file:\n",
    "    json.dump(details, json_file)"
   ]
  },
  {
   "cell_type": "markdown",
   "metadata": {},
   "source": [
    "# Affinity Propagation"
   ]
  },
  {
   "cell_type": "code",
   "execution_count": null,
   "metadata": {
    "pycharm": {
     "is_executing": true
    }
   },
   "outputs": [],
   "source": [
    "labels=[]\n",
    "cluster_center=[]"
   ]
  },
  {
   "cell_type": "code",
   "execution_count": null,
   "metadata": {
    "pycharm": {
     "is_executing": true
    }
   },
   "outputs": [],
   "source": [
    "start=time.time()\n",
    "def affinity(i):\n",
    "    af = AffinityPropagation(preference=-5,random_state=None)      #iris data (preference=-3,random_state=None)\n",
    "                                                                    # wine (preference=-5,random_state=None)\n",
    "                                                                    #preference=-9,random_state=None   haberman\n",
    "                                                                    #preference=-9,random_state=None for satelite\n",
    "    af.fit(x)\n",
    "    labels.append(af.labels_)\n",
    "    cluster_center.append(af.cluster_centers_)\n",
    "    return cluster_center,labels\n",
    "result2=Parallel(n_jobs=8)(delayed(affinity)(6) for _ in range(1))[0]\n",
    "end = time.time()\n",
    "affinity_time=end-start\n",
    "affinity_time"
   ]
  },
  {
   "cell_type": "code",
   "execution_count": null,
   "metadata": {
    "pycharm": {
     "is_executing": true
    }
   },
   "outputs": [],
   "source": [
    "predicted7=result2[1][0]\n",
    "affinity_sil=silhouette_score(x,predicted7)\n",
    "n_cluster=len(np.unique(predicted6))\n",
    "print(\"Number of clusters: \",n_cluster )\n",
    "affinity_sil"
   ]
  },
  {
   "cell_type": "code",
   "execution_count": null,
   "metadata": {
    "pycharm": {
     "is_executing": true
    }
   },
   "outputs": [],
   "source": [
    "center=result2[0][0]\n",
    "print(center)"
   ]
  },
  {
   "cell_type": "code",
   "execution_count": null,
   "metadata": {
    "pycharm": {
     "is_executing": true
    }
   },
   "outputs": [],
   "source": [
    "predicted7=result2[1][0]\n",
    "predicted7"
   ]
  },
  {
   "cell_type": "code",
   "execution_count": null,
   "metadata": {
    "pycharm": {
     "is_executing": true
    }
   },
   "outputs": [],
   "source": [
    "plt.scatter(x[:, 0], x[:, 1], c=predicted7, s=40, cmap='viridis')"
   ]
  },
  {
   "cell_type": "markdown",
   "metadata": {},
   "source": [
    "# f1_score"
   ]
  },
  {
   "cell_type": "code",
   "execution_count": null,
   "metadata": {
    "pycharm": {
     "is_executing": true
    }
   },
   "outputs": [],
   "source": [
    "affinity_f1=f1_score(y, predicted7,average='macro')\n",
    "affinity_f1"
   ]
  },
  {
   "cell_type": "markdown",
   "metadata": {},
   "source": [
    "# adjusted_rand_score"
   ]
  },
  {
   "cell_type": "code",
   "execution_count": null,
   "metadata": {
    "pycharm": {
     "is_executing": true
    }
   },
   "outputs": [],
   "source": [
    "affinity_adjust=adjusted_rand_score(y,predicted7)\n",
    "affinity_adjust"
   ]
  },
  {
   "cell_type": "markdown",
   "metadata": {},
   "source": [
    "# silhouette_score"
   ]
  },
  {
   "cell_type": "code",
   "execution_count": null,
   "metadata": {
    "pycharm": {
     "is_executing": true
    }
   },
   "outputs": [],
   "source": [
    "affinity_sil=silhouette_score(x,predicted7)\n",
    "affinity_sil"
   ]
  },
  {
   "cell_type": "code",
   "execution_count": null,
   "metadata": {
    "pycharm": {
     "is_executing": true
    }
   },
   "outputs": [],
   "source": [
    "details = {\n",
    "    'name': 'Affinity_Propagation',\n",
    "    'time': affinity_time,\n",
    "    'f1_score':affinity_f1,\n",
    "    'adjusted_rand_score':affinity_adjust,\n",
    "    'silhouette_score':affinity_sil \n",
    "}\n",
    "with open(k, 'a') as json_file:\n",
    "    json.dump(details, json_file)"
   ]
  },
  {
   "cell_type": "markdown",
   "metadata": {},
   "source": [
    "# Spectral clustering"
   ]
  },
  {
   "cell_type": "code",
   "execution_count": null,
   "metadata": {
    "pycharm": {
     "is_executing": true
    }
   },
   "outputs": [],
   "source": [
    "start = time.time()\n",
    "labels=[]\n",
    "def spect(i):\n",
    "    sc = SpectralClustering(n_clusters = i)\n",
    "    sc.fit(x)\n",
    "    labels.append(sc.labels_)\n",
    "    return labels\n",
    "labels=Parallel(n_jobs=8)(delayed(spect)(6) for _ in range(1))[0][0]\n",
    "end = time.time()\n",
    "Spectral_time=end-start\n",
    "Spectral_time"
   ]
  },
  {
   "cell_type": "code",
   "execution_count": null,
   "metadata": {
    "pycharm": {
     "is_executing": true
    }
   },
   "outputs": [],
   "source": [
    "n_clusters_ = len(np.unique(labels))\n",
    "n_clusters_"
   ]
  },
  {
   "cell_type": "code",
   "execution_count": null,
   "metadata": {
    "pycharm": {
     "is_executing": true
    }
   },
   "outputs": [],
   "source": [
    "predicted8=labels\n",
    "predicted8"
   ]
  },
  {
   "cell_type": "code",
   "execution_count": null,
   "metadata": {
    "pycharm": {
     "is_executing": true
    }
   },
   "outputs": [],
   "source": [
    "plt.scatter(x[:, 0], x[:, 1], c=predicted8, s=40, cmap='viridis')"
   ]
  },
  {
   "cell_type": "markdown",
   "metadata": {},
   "source": [
    "# f1_score"
   ]
  },
  {
   "cell_type": "code",
   "execution_count": null,
   "metadata": {
    "pycharm": {
     "is_executing": true
    }
   },
   "outputs": [],
   "source": [
    "Spectral_f1=f1_score(y, predicted8,average='macro')\n",
    "Spectral_f1"
   ]
  },
  {
   "cell_type": "markdown",
   "metadata": {},
   "source": [
    "# adjusted_rand_score"
   ]
  },
  {
   "cell_type": "code",
   "execution_count": null,
   "metadata": {
    "pycharm": {
     "is_executing": true
    }
   },
   "outputs": [],
   "source": [
    "Spectral_adjust=adjusted_rand_score(y,predicted8)\n",
    "Spectral_adjust"
   ]
  },
  {
   "cell_type": "markdown",
   "metadata": {},
   "source": [
    "# silhouette_score"
   ]
  },
  {
   "cell_type": "code",
   "execution_count": null,
   "metadata": {
    "pycharm": {
     "is_executing": true
    }
   },
   "outputs": [],
   "source": [
    "Spectral_sil=silhouette_score(x,predicted8)\n",
    "Spectral_sil"
   ]
  },
  {
   "cell_type": "code",
   "execution_count": null,
   "metadata": {
    "pycharm": {
     "is_executing": true
    }
   },
   "outputs": [],
   "source": [
    "details = {\n",
    "    'name': 'Spectral',\n",
    "    'time': Spectral_time,\n",
    "    'f1_score':Spectral_f1,\n",
    "    'adjusted_rand_score':Spectral_adjust,\n",
    "    'silhouette_score':Spectral_sil \n",
    "}\n",
    "with open(k, 'a') as json_file:\n",
    "    json.dump(details, json_file)"
   ]
  },
  {
   "cell_type": "markdown",
   "metadata": {},
   "source": [
    "# Birch"
   ]
  },
  {
   "cell_type": "code",
   "execution_count": null,
   "metadata": {
    "pycharm": {
     "is_executing": true
    }
   },
   "outputs": [],
   "source": [
    "start = time.time()\n",
    "labels=[]\n",
    "def birch(i):\n",
    "    br = Birch(n_clusters = i,threshold=0.327) #0.327\n",
    "    br.fit(x)\n",
    "    labels.append(br.labels_)\n",
    "    return labels\n",
    "labels=Parallel(n_jobs=8)(delayed(aggloc)(6) for _ in range(1))[0][0]\n",
    "end = time.time()\n",
    "Birch_time=end-start\n",
    "Birch_time"
   ]
  },
  {
   "cell_type": "code",
   "execution_count": null,
   "metadata": {
    "pycharm": {
     "is_executing": true
    }
   },
   "outputs": [],
   "source": [
    "n_clusters_ = len(np.unique(labels))\n",
    "n_clusters_"
   ]
  },
  {
   "cell_type": "code",
   "execution_count": null,
   "metadata": {
    "pycharm": {
     "is_executing": true
    }
   },
   "outputs": [],
   "source": [
    "predicted9=labels\n",
    "plt.scatter(x[:, 0], x[:, 1], c=predicted9, s=40, cmap='viridis')"
   ]
  },
  {
   "cell_type": "markdown",
   "metadata": {},
   "source": [
    "# f1_score"
   ]
  },
  {
   "cell_type": "code",
   "execution_count": null,
   "metadata": {
    "pycharm": {
     "is_executing": true
    }
   },
   "outputs": [],
   "source": [
    "Birch_f1=f1_score(y, predicted8,average='macro')\n",
    "Birch_f1"
   ]
  },
  {
   "cell_type": "markdown",
   "metadata": {},
   "source": [
    "# adjusted_rand_score"
   ]
  },
  {
   "cell_type": "code",
   "execution_count": null,
   "metadata": {
    "pycharm": {
     "is_executing": true
    }
   },
   "outputs": [],
   "source": [
    "Birch_adjust=adjusted_rand_score(y,predicted8)\n",
    "Birch_adjust"
   ]
  },
  {
   "cell_type": "markdown",
   "metadata": {},
   "source": [
    "# silhouette_score"
   ]
  },
  {
   "cell_type": "code",
   "execution_count": null,
   "metadata": {
    "pycharm": {
     "is_executing": true
    }
   },
   "outputs": [],
   "source": [
    "Birch_sil=silhouette_score(x,predicted8)\n",
    "Birch_sil"
   ]
  },
  {
   "cell_type": "code",
   "execution_count": null,
   "metadata": {
    "pycharm": {
     "is_executing": true
    }
   },
   "outputs": [],
   "source": [
    "details = {\n",
    "    'name': 'Birch',\n",
    "    'time': Birch_time,\n",
    "    'f1_score':Birch_f1,\n",
    "    'adjusted_rand_score':Birch_adjust,\n",
    "    'silhouette_score':Birch_sil \n",
    "}\n",
    "with open(k, 'a') as json_file:\n",
    "    json.dump(details, json_file)"
   ]
  },
  {
   "cell_type": "markdown",
   "metadata": {},
   "source": [
    "# Ward hierarchical"
   ]
  },
  {
   "cell_type": "code",
   "execution_count": null,
   "metadata": {
    "pycharm": {
     "is_executing": true
    }
   },
   "outputs": [],
   "source": [
    "dandgram=sch.dendrogram(sch.linkage(x,method='ward'))"
   ]
  },
  {
   "cell_type": "code",
   "execution_count": null,
   "metadata": {
    "pycharm": {
     "is_executing": true
    }
   },
   "outputs": [],
   "source": [
    "start = time.time()\n",
    "labels=[]\n",
    "def ward(i):\n",
    "    Agglomerat=AgglomerativeClustering(n_clusters=i,affinity='euclidean',linkage='ward').fit(x)\n",
    "    labels.append(Agglomerat.labels_)\n",
    "    return labels\n",
    "labels=Parallel(n_jobs=8)(delayed(aggloc)(6) for _ in range(1))[0]\n",
    "end = time.time()\n",
    "ward_time=end-start\n",
    "ward_time"
   ]
  },
  {
   "cell_type": "code",
   "execution_count": null,
   "metadata": {
    "pycharm": {
     "is_executing": true
    }
   },
   "outputs": [],
   "source": [
    "n_clusters_ = len(np.unique(labels))\n",
    "n_clusters_"
   ]
  },
  {
   "cell_type": "code",
   "execution_count": null,
   "metadata": {
    "pycharm": {
     "is_executing": true
    }
   },
   "outputs": [],
   "source": [
    "predicted10=labels[0]\n",
    "predicted10"
   ]
  },
  {
   "cell_type": "code",
   "execution_count": null,
   "metadata": {
    "pycharm": {
     "is_executing": true
    }
   },
   "outputs": [],
   "source": [
    "plt.scatter(x[:, 0], x[:, 1], c=predicted10, s=40, cmap='viridis')"
   ]
  },
  {
   "cell_type": "markdown",
   "metadata": {},
   "source": [
    "# f1_score"
   ]
  },
  {
   "cell_type": "code",
   "execution_count": null,
   "metadata": {
    "pycharm": {
     "is_executing": true
    }
   },
   "outputs": [],
   "source": [
    "Ward_f1=f1_score(y, predicted10,average='macro')\n",
    "Ward_f1"
   ]
  },
  {
   "cell_type": "markdown",
   "metadata": {},
   "source": [
    "# adjusted_rand_score"
   ]
  },
  {
   "cell_type": "code",
   "execution_count": null,
   "metadata": {
    "pycharm": {
     "is_executing": true
    }
   },
   "outputs": [],
   "source": [
    "Ward_adjust=adjusted_rand_score(y,predicted10)\n",
    "Ward_adjust"
   ]
  },
  {
   "cell_type": "markdown",
   "metadata": {},
   "source": [
    "# silhouette_score"
   ]
  },
  {
   "cell_type": "code",
   "execution_count": null,
   "metadata": {
    "pycharm": {
     "is_executing": true
    }
   },
   "outputs": [],
   "source": [
    "Ward_sil=silhouette_score(x,predicted10)\n",
    "Ward_sil"
   ]
  },
  {
   "cell_type": "code",
   "execution_count": null,
   "metadata": {
    "pycharm": {
     "is_executing": true
    }
   },
   "outputs": [],
   "source": [
    "details = {\n",
    "    'name': 'Ward',\n",
    "    'time': ward_time,\n",
    "    'f1_score':Ward_f1,\n",
    "    'adjusted_rand_score':Ward_adjust,\n",
    "    'silhouette_score':Ward_sil \n",
    "}\n",
    "with open(k, 'a') as json_file:\n",
    "    json.dump(details, json_file)"
   ]
  },
  {
   "cell_type": "code",
   "execution_count": null,
   "metadata": {
    "pycharm": {
     "is_executing": true
    }
   },
   "outputs": [],
   "source": [
    "python"
   ]
  },
  {
   "cell_type": "code",
   "execution_count": null,
   "metadata": {
    "pycharm": {
     "is_executing": true
    }
   },
   "outputs": [],
   "source": []
  },
  {
   "cell_type": "code",
   "execution_count": null,
   "metadata": {
    "pycharm": {
     "is_executing": true
    }
   },
   "outputs": [],
   "source": []
  }
 ],
 "metadata": {
  "kernelspec": {
   "display_name": "PyCharm (Clustering)",
   "language": "python",
   "name": "pycharm-8122eebd"
  },
  "language_info": {
   "codemirror_mode": {
    "name": "ipython",
    "version": 3
   },
   "file_extension": ".py",
   "mimetype": "text/x-python",
   "name": "python",
   "nbconvert_exporter": "python",
   "pygments_lexer": "ipython3",
   "version": "3.6.8"
  }
 },
 "nbformat": 4,
 "nbformat_minor": 1
}